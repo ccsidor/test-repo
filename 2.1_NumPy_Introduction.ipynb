{
 "cells": [
  {
   "cell_type": "markdown",
   "metadata": {},
   "source": [
    "# Tutorial 2.1: NumPy Introduction\n",
    "Systems & Technologies: Python  \n",
    "Week 2"
   ]
  },
  {
   "cell_type": "code",
   "execution_count": 1,
   "metadata": {},
   "outputs": [],
   "source": [
    "# SETUP CODE - DON'T MODIFY THIS\n",
    "# JUST EXECUTE IT\n",
    "import pandas as pd\n",
    "pd.set_option('display.max_colwidth', -1)"
   ]
  },
  {
   "cell_type": "markdown",
   "metadata": {},
   "source": [
    "Today we move beyond learning the basics of Python as a programming language and start to learn how we can utilize some incredible open-source packages which are written in Python to perform data science."
   ]
  },
  {
   "cell_type": "markdown",
   "metadata": {},
   "source": [
    "## NumPy in 30 Seconds\n",
    "NumPy, short for *Numerical Python*, is a package written by the Python community which you can **import** into your programs to provide an efficient way to store and operate on data sets through the custom data type, the **NumPy Array** (*`ndarray`*).  \n",
    "\n",
    "In many ways, *`NumPy`* arrays are like Python's built in `list` type which you learned about in Module 1. The key differences are that *`NumPy`* arrays provide (1) lightning fast operations when dealing with a data set of (2) homogenous data (i.e. all integers, all floats, etc). \n",
    "\n",
    "<div class=\"alert alert-block alert-info\">\n",
    "Recently, the Python language itself introduced an `array` data type to efficiently store sets of single data type elements.  But NumPy arrays still provide significant benefits in comparison to the native Python `array` because of the methods (operations) that the `NumPy` authors built into them.\n",
    "</div>"
   ]
  },
  {
   "cell_type": "markdown",
   "metadata": {},
   "source": [
    "Equivalent operations (ex. getting the sum of 1000 numbers) will be 10-100 times faster when using `ndarray` objects vs. `list` objects."
   ]
  },
  {
   "cell_type": "markdown",
   "metadata": {},
   "source": [
    "## Heterogeneous Lists & Performance Problems\n",
    "In the previous tutorial, we introduced the *`list`* data type. In our examples of this data type all of the elements have been of the same type. \n",
    "\n",
    "But this is not a requirement in Python.  You can place any number of different data types in a single list. For example: "
   ]
  },
  {
   "cell_type": "markdown",
   "metadata": {},
   "source": [
    "## Installing NumPy\n",
    "Thus far, we've only interacted with objects and types that are part of Python's **Standard Library**. These are the objects that are part of core Python language and don't require any additional installation.\n",
    "\n",
    "*`NumPy`* is a third party package or libary that is not a part of the standard library, so it has to be installed into our environment.\n",
    "\n",
    "To keep people from getting bogged down with installation issues, we've already installed NumPy (along with all the other packages that you will need in the course) into your Cloud9 workspace.\n",
    "\n",
    "<div class=\"alert alert-block alert-info\">\n",
    "Please review the <code>container-setup.md</code> file in the <code>how-to-guides</code> folder for additional information or ask your instructor.\n",
    "</div>"
   ]
  },
  {
   "cell_type": "markdown",
   "metadata": {},
   "source": [
    "## Importing NumPy\n",
    "Before you can use any of `NumPy's` functionality, you'll need to import it into your programs."
   ]
  },
  {
   "cell_type": "code",
   "execution_count": 2,
   "metadata": {},
   "outputs": [],
   "source": [
    "# This should always go at the top of your program\n",
    "import numpy"
   ]
  },
  {
   "cell_type": "markdown",
   "metadata": {},
   "source": [
    "By convention, you'll find that most people in the Python community will import *`NumPy`* using *`np`* as an alias:"
   ]
  },
  {
   "cell_type": "code",
   "execution_count": 3,
   "metadata": {},
   "outputs": [],
   "source": [
    "import numpy as np"
   ]
  },
  {
   "cell_type": "markdown",
   "metadata": {},
   "source": [
    "This is the way we'll import and use NumPy. \n",
    "\n",
    "<div class=\"alert alert-block alert-warning\">\n",
    "<p>Usually, good progamming practice would avoid a two character variable name because to most people it is completely unclear as to what it represents. `np` could mean null pointer, non-primary, nearest point, etc. The only reason we do this in the case is because the `np` convention is extremely well known in the NumPy userbase.</p> \n",
    "\n",
    "<p><strong>But don't do this with your own variable names! Make them meaningful.</strong>\n",
    "</p>\n",
    "\n",
    "</div>\n"
   ]
  },
  {
   "cell_type": "markdown",
   "metadata": {},
   "source": [
    "Once you've imported the numpy package as `np` you can interact with it as you would any other object. You can use `help()`, `?` and tab completition to start to learn what is available on it or any of it's nested objects, functions, etc."
   ]
  },
  {
   "cell_type": "markdown",
   "metadata": {},
   "source": [
    "## The Basics of NumPy Arrays"
   ]
  },
  {
   "cell_type": "markdown",
   "metadata": {},
   "source": [
    "### Arrays can be Created from Lists\n",
    "The simpliest way to create an `ndarray` is to simply pass a normal `list` to the `np.arrray()` constructor function like so:"
   ]
  },
  {
   "cell_type": "code",
   "execution_count": 4,
   "metadata": {},
   "outputs": [
    {
     "data": {
      "text/plain": [
       "array([0, 1, 2, 3, 4, 5])"
      ]
     },
     "execution_count": 4,
     "metadata": {},
     "output_type": "execute_result"
    }
   ],
   "source": [
    "list_of_ints = [0, 1, 2, 3, 4, 5]\n",
    "int_array = np.array(list_of_ints)\n",
    "int_array"
   ]
  },
  {
   "cell_type": "markdown",
   "metadata": {},
   "source": [
    "<div class=\"alert alert-block alert-info\">\n",
    "A \"constructor function (or method)\" is just a function that constructs/creates a new object and returns it.\n",
    "</div>"
   ]
  },
  {
   "cell_type": "markdown",
   "metadata": {},
   "source": [
    "Now, you may have noticed that when we create an `ndarray` object from `list_of_ints` above, it didn't print out `ndarray([0, 1, 2, 3, 4, 5])` as the object representation, but `array([0, 1, 2, 3, 4, 5])`.\n",
    "\n",
    "Make sure not to let this cause you problems when checking for the type of an object with `isinstance()` or `type()`. The real class of the object is `ndarray`."
   ]
  },
  {
   "cell_type": "code",
   "execution_count": 5,
   "metadata": {},
   "outputs": [
    {
     "data": {
      "text/plain": [
       "numpy.ndarray"
      ]
     },
     "execution_count": 5,
     "metadata": {},
     "output_type": "execute_result"
    }
   ],
   "source": [
    "# Notice what the type of the object actually is\n",
    "type(int_array)"
   ]
  },
  {
   "cell_type": "code",
   "execution_count": 6,
   "metadata": {},
   "outputs": [
    {
     "ename": "NameError",
     "evalue": "name 'array' is not defined",
     "output_type": "error",
     "traceback": [
      "\u001b[0;31m---------------------------------------------------------------------------\u001b[0m",
      "\u001b[0;31mNameError\u001b[0m                                 Traceback (most recent call last)",
      "\u001b[0;32m<ipython-input-6-f144e855a2bf>\u001b[0m in \u001b[0;36m<module>\u001b[0;34m()\u001b[0m\n\u001b[1;32m      1\u001b[0m \u001b[0;31m# If you try to isinstance() with the wrong class name\u001b[0m\u001b[0;34m\u001b[0m\u001b[0;34m\u001b[0m\u001b[0m\n\u001b[1;32m      2\u001b[0m \u001b[0;31m# you'll have problems\u001b[0m\u001b[0;34m\u001b[0m\u001b[0;34m\u001b[0m\u001b[0m\n\u001b[0;32m----> 3\u001b[0;31m \u001b[0misinstance\u001b[0m\u001b[0;34m(\u001b[0m\u001b[0mint_array\u001b[0m\u001b[0;34m,\u001b[0m \u001b[0marray\u001b[0m\u001b[0;34m)\u001b[0m\u001b[0;34m\u001b[0m\u001b[0m\n\u001b[0m",
      "\u001b[0;31mNameError\u001b[0m: name 'array' is not defined"
     ]
    }
   ],
   "source": [
    "# If you try to isinstance() with the wrong class name\n",
    "# you'll have problems\n",
    "isinstance(int_array, array)"
   ]
  },
  {
   "cell_type": "markdown",
   "metadata": {},
   "source": [
    "### Passing Different Datatypes to a NumPy Array\n",
    "If you try to pass in a list with different data types, *`NumPy`*  will attempt to convert them to a single type (this is called 'upcasting'). For example, let's say we had a list of student grades for our course that looked like this:\n",
    "\n",
    "```python\n",
    "student_grades = [87.5, 91, 86, 100.5] \n",
    "# Wow, somebody is so smart they got a 100.5\n",
    "```\n",
    "\n",
    "The first and fourth elements in this list are `float` objects while the second and third element are `int` objects. Let's see what happens when we convert this list to a NumPy array:"
   ]
  },
  {
   "cell_type": "code",
   "execution_count": null,
   "metadata": {},
   "outputs": [],
   "source": [
    "np.array([87.5, 91, 86, 100.5])"
   ]
  },
  {
   "cell_type": "markdown",
   "metadata": {},
   "source": [
    "You can see that the `int` objects were converted to `float` objects."
   ]
  },
  {
   "cell_type": "markdown",
   "metadata": {},
   "source": [
    "<div class=\"alert alert-block alert-warning\">\n",
    "<h5>Only One Data Type Allowed</h5>\n",
    "<p>Remember, that `ndarray` objects can only hold elements of a single data type. That is why NumPy converted the int objects to float objects in this example.\n",
    "</p>\n",
    "</div>"
   ]
  },
  {
   "cell_type": "markdown",
   "metadata": {},
   "source": [
    "One must be careful to avoid having `str` objects in the lists you pass to the `ndarray` constructor. If you do, NumPy will upcast all the elements to strings, which is make performing mathematical calcuations a real mess."
   ]
  },
  {
   "cell_type": "code",
   "execution_count": null,
   "metadata": {},
   "outputs": [],
   "source": [
    "bad_list_data = [12, 523, 23424, 'YUCKY']\n",
    "nonideal_array = np.array(bad_list_data)\n",
    "\n",
    "# Notice when this is printed that all the elements\n",
    "# of the array will be strings (have quotes around them).\n",
    "# Almost certainly not what you want...\n",
    "nonideal_array"
   ]
  },
  {
   "cell_type": "markdown",
   "metadata": {},
   "source": [
    "### Forcing an Array's Data Type\n",
    "You also have the option of forcing all `ndarray` elements to have a specific data type.  Here I'll take a `list` of `float` objects and coerce them into `int` objects by specifying the **`dtype`** parameter on the `np.array` function."
   ]
  },
  {
   "cell_type": "code",
   "execution_count": null,
   "metadata": {},
   "outputs": [],
   "source": [
    "list_of_floats = [11.2, 57.6, 95.1]\n",
    "np.array(list_of_floats, dtype=int)"
   ]
  },
  {
   "cell_type": "markdown",
   "metadata": {},
   "source": [
    "Sometimes you can't coerce a data type. For instance, if there is a string in the source list that can't be converted to a numeric type."
   ]
  },
  {
   "cell_type": "code",
   "execution_count": null,
   "metadata": {},
   "outputs": [],
   "source": [
    "# This will work because the strings\n",
    "# can be interpreted as numbers.\n",
    "np.array([1, '2.5', 14, '-19'], dtype=float)"
   ]
  },
  {
   "cell_type": "code",
   "execution_count": null,
   "metadata": {},
   "outputs": [],
   "source": [
    "# But this will fail...\n",
    "np.array([1, '2.5 tacos', 14, '-19 burgers'], dtype=float)"
   ]
  },
  {
   "cell_type": "markdown",
   "metadata": {},
   "source": [
    "The <code>dtype</code> parameter can take many different values in addition to these standard Python types: <code>int, float, bool, complex</code>."
   ]
  },
  {
   "cell_type": "code",
   "execution_count": null,
   "metadata": {},
   "outputs": [],
   "source": [
    "# Execute this cell to see the other options available for `dtype` from the NumPy website.\n",
    "# As a beginner, you won't need to specify anything more than the basic Python data types,\n",
    "# but this is a helpful reference.\n",
    "numpy_data_types = pd.read_html(\n",
    "    io=\"https://docs.scipy.org/doc/numpy/user/basics.types.html\", index_col='Data type')[0]\n",
    "numpy_data_types"
   ]
  },
  {
   "cell_type": "markdown",
   "metadata": {},
   "source": [
    "### Arrays can be Multi-Dimensional\n",
    "Ok, this might make your head hurt a little bit. \n",
    "\n",
    "NumPy arrays can be multi-dimensional. While in theory we could have an array with N levels of dimensions, you will most commonly work with 2-dimensional data as beginners. So let's look at a two dimensional array, which can be thought of a grid with x and y coordinates."
   ]
  },
  {
   "cell_type": "code",
   "execution_count": null,
   "metadata": {},
   "outputs": [],
   "source": [
    "# Don't focus on how this is being created. Just focus on the output.\n",
    "two_dimensional_array = np.array([range(i, i + 3) for i in [2, 4, 6]])\n",
    "two_dimensional_array"
   ]
  },
  {
   "cell_type": "markdown",
   "metadata": {},
   "source": [
    "And now, just so that you know what they look like when displayed, here is  an example of a 3-dimensional array that has 4 elements in each dimension... which you could think of as a three dimensional cube."
   ]
  },
  {
   "cell_type": "code",
   "execution_count": null,
   "metadata": {},
   "outputs": [],
   "source": [
    "three_dimensional_array = np.ones(shape=(4, 4, 4))\n",
    "three_dimensional_array"
   ]
  },
  {
   "cell_type": "markdown",
   "metadata": {},
   "source": [
    "## NumPy Array Data Attributes\n",
    "Like all objects, *`NumPy`* *`ndarray`* objects have a set of data attributes. Let's take moment to discuss some that you may find helpful:\n",
    "\n",
    "1. `ndim`\n",
    "1. `shape`\n",
    "1. `size`\n",
    "1. `dtype`\n",
    "\n",
    "To get started, let's create 3 arrays."
   ]
  },
  {
   "cell_type": "code",
   "execution_count": null,
   "metadata": {},
   "outputs": [],
   "source": [
    "x1 = np.random.randint(10, size=6)  # One-dimensional array\n",
    "x2 = np.random.randint(10, size=(3, 4))  # Two-dimensional array\n",
    "x3 = np.random.randint(10, size=(3, 4, 5))  # Three-dimensional array\n",
    "\n",
    "print(\"One Dimensional Array\", x1, '\\n', sep='\\n')\n",
    "print(\"Two Dimensional Array\", x2, '\\n', sep='\\n')\n",
    "print(\"Three Dimensional Array\", x3, '\\n', sep='\\n')"
   ]
  },
  {
   "cell_type": "markdown",
   "metadata": {},
   "source": [
    "### `ndim` Attribute\n",
    "Returns the number of dimensions a given array has."
   ]
  },
  {
   "cell_type": "code",
   "execution_count": null,
   "metadata": {},
   "outputs": [],
   "source": [
    "print(x1.ndim, x2.ndim, x3.ndim)"
   ]
  },
  {
   "cell_type": "markdown",
   "metadata": {},
   "source": [
    "### `shape` Attribute\n",
    "Returns the number of elements a in each dimension of an array. For our `x2` array we'd get this output:\n",
    "\n",
    "```python\n",
    "x2.shape\n",
    "(3, 4)\n",
    "```\n",
    "\n",
    "If you look above, you'll see that the full represenation of our `x2` array was this:\n",
    "\n",
    "```\n",
    "[[6 7 9 1]\n",
    " [3 4 1 2]\n",
    " [6 7 0 7]]\n",
    "```\n",
    "\n",
    "The `(3, 4)` returned by `x2.shape` is referring to the fact that our array had three rows and four columns in each row."
   ]
  },
  {
   "cell_type": "markdown",
   "metadata": {},
   "source": [
    "### `size` Attribute\n",
    "Returns the total number of elements across all dimensions of an array.\n",
    "\n",
    "For our one-dimensional array, `size` will be 6.  \n",
    "Our 2 dimensional array had dimensions of 3 and 4 elements, so `size` will be 12.  \n",
    "Our 3 dimensional array had dimensions of 3, 4, and 5. Therefore it will have a total size of 60 elements."
   ]
  },
  {
   "cell_type": "code",
   "execution_count": null,
   "metadata": {},
   "outputs": [],
   "source": [
    "print(\"x1 size:\", x1.size)\n",
    "print(\"x2 size:\", x2.size)\n",
    "print(\"x3 size:\", x3.size)"
   ]
  },
  {
   "cell_type": "markdown",
   "metadata": {},
   "source": [
    "### `dtype` Attribute\n",
    "Previously, we passed a `dtype` argument to the `np.array` constructor function to coerce the data type of the array's elements.\n",
    "\n",
    "It comes about again here, but this time as an attribute of all NumPy arrays. Unsurprisingly, it tells you the data type of the elements held inside the array."
   ]
  },
  {
   "cell_type": "code",
   "execution_count": null,
   "metadata": {},
   "outputs": [],
   "source": [
    "float_array = np.array([1, 2, 3.1])\n",
    "float_array.dtype"
   ]
  },
  {
   "cell_type": "markdown",
   "metadata": {},
   "source": [
    "### `itemsize` and `nbytes` Attributes\n",
    "Other attributes include ``itemsize``, which lists the size (in bytes) of each array element, and ``nbytes``, which lists the total size (in bytes) of the array:"
   ]
  },
  {
   "cell_type": "code",
   "execution_count": null,
   "metadata": {},
   "outputs": [],
   "source": [
    "print(\"itemsize:\", x3.itemsize, \"bytes\")\n",
    "print(\"nbytes:\", x3.nbytes, \"bytes\")"
   ]
  },
  {
   "cell_type": "markdown",
   "metadata": {},
   "source": [
    "In general, we expect that ``nbytes`` is equal to ``itemsize`` times ``size``."
   ]
  }
 ],
 "metadata": {
  "anaconda-cloud": {},
  "kernelspec": {
   "display_name": "Python 3",
   "language": "python",
   "name": "python3"
  },
  "language_info": {
   "codemirror_mode": {
    "name": "ipython",
    "version": 3
   },
   "file_extension": ".py",
   "mimetype": "text/x-python",
   "name": "python",
   "nbconvert_exporter": "python",
   "pygments_lexer": "ipython3",
   "version": "3.6.4"
  }
 },
 "nbformat": 4,
 "nbformat_minor": 1
}
